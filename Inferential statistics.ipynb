{
 "cells": [
  {
   "cell_type": "markdown",
   "id": "c0427ac1",
   "metadata": {},
   "source": [
    "# Lab | Inferential statistics"
   ]
  },
  {
   "cell_type": "markdown",
   "id": "3d493fe9",
   "metadata": {},
   "source": [
    "## Instructions"
   ]
  },
  {
   "cell_type": "markdown",
   "id": "8fab24c3",
   "metadata": {},
   "source": [
    "It is assumed that the mean systolic blood pressure is μ = 120 mm Hg. In the Honolulu Heart Study, a sample of n = 100 people had an average systolic blood pressure of 130.1 mm Hg with a standard deviation of 21.21 mm Hg. Is the group significantly different (with respect to systolic blood pressure!) from the regular population?\n",
    "\n",
    "- Set up the hypothesis test.\n",
    "- Write down all the steps followed for setting up the test.\n",
    "- Calculate the test statistic by hand and also code it in Python. It should be 4.76190. We will take a look at how to make decisions based on this calculated value.\n",
    "\n",
    "If you finished the previous question, please go through the code for principal_component_analysis_example provided in the files_for_lab folder ."
   ]
  },
  {
   "cell_type": "markdown",
   "id": "43a382db",
   "metadata": {},
   "source": [
    "- Population mean (μ) = 120 mm Hg\n",
    "- Population standard deviation (σ) = 21.21 mm Hg\n",
    "- Sample size (n) = 100\n",
    "- Sample mean (x̄) = 130.1 mm Hg"
   ]
  },
  {
   "cell_type": "markdown",
   "id": "63221736",
   "metadata": {},
   "source": [
    "## Answer : "
   ]
  },
  {
   "cell_type": "markdown",
   "id": "47e58dd9",
   "metadata": {},
   "source": [
    "- We first have to define the null and the alternative hypothesis, H0 et H1 \n",
    "First hypothesis would be that the group's mean blood pressure is equal to the population mean. The second one would be that their blood pressure is different from the population."
   ]
  },
  {
   "cell_type": "markdown",
   "id": "993fec93",
   "metadata": {},
   "source": [
    "- We then choose a significance level, the probability of making an error, of α = 0.05 as standard"
   ]
  },
  {
   "cell_type": "markdown",
   "id": "e048e7b4",
   "metadata": {},
   "source": [
    "- We can use the t-test because we have been able to define σ and because the sample size is large : "
   ]
  },
  {
   "cell_type": "code",
   "execution_count": 1,
   "id": "9ca32ed3",
   "metadata": {},
   "outputs": [],
   "source": [
    "import math\n",
    "import numpy as np"
   ]
  },
  {
   "cell_type": "code",
   "execution_count": 5,
   "id": "ec8ac01d",
   "metadata": {},
   "outputs": [],
   "source": [
    "Population_mean = 120 \n",
    "Sample_standard_deviation = 21.21 \n",
    "Sample_size = 100\n",
    "Sample_mean = 130.1 "
   ]
  },
  {
   "cell_type": "code",
   "execution_count": 8,
   "id": "da549ba3",
   "metadata": {},
   "outputs": [
    {
     "name": "stdout",
     "output_type": "stream",
     "text": [
      "Calculated t = 4.762\n"
     ]
    }
   ],
   "source": [
    "t = (Sample_mean - Population_mean) / (Sample_standard_deviation / math.sqrt(Sample_size))\n",
    "print(\"Calculated t =\", round(t, 3))"
   ]
  },
  {
   "cell_type": "code",
   "execution_count": null,
   "id": "2e9eafce",
   "metadata": {},
   "outputs": [],
   "source": []
  }
 ],
 "metadata": {
  "kernelspec": {
   "display_name": "Python 3 (ipykernel)",
   "language": "python",
   "name": "python3"
  },
  "language_info": {
   "codemirror_mode": {
    "name": "ipython",
    "version": 3
   },
   "file_extension": ".py",
   "mimetype": "text/x-python",
   "name": "python",
   "nbconvert_exporter": "python",
   "pygments_lexer": "ipython3",
   "version": "3.10.9"
  }
 },
 "nbformat": 4,
 "nbformat_minor": 5
}
